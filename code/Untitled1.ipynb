{
 "cells": [
  {
   "cell_type": "code",
   "execution_count": 1,
   "id": "84170f3e-b1b6-4466-b69d-0b91b692b073",
   "metadata": {},
   "outputs": [],
   "source": [
    "import matplotlib.pyplot as plt\n",
    "import numpy as np\n",
    "import sympy as sp\n",
    "import pandas as pd\n",
    "from datetime import datetime"
   ]
  },
  {
   "cell_type": "code",
   "execution_count": 17,
   "id": "acbb5da2-d30f-4c68-b3cc-8b4a0a898965",
   "metadata": {},
   "outputs": [],
   "source": [
    "T = 465\n",
    "N = 44000\n",
    "S = sp.zeros(1, T)\n",
    "I = sp.zeros(1, T)\n",
    "R = sp.zeros(1, T)"
   ]
  },
  {
   "cell_type": "code",
   "execution_count": 18,
   "id": "70bbfa5c-ab48-4c8a-81d8-e0be154c53af",
   "metadata": {},
   "outputs": [],
   "source": [
    "beta, gama = sp.symbols(\"beta gama\")"
   ]
  },
  {
   "cell_type": "code",
   "execution_count": 19,
   "id": "59555e9c-03ed-4834-aa6a-64d089a5e5d7",
   "metadata": {},
   "outputs": [],
   "source": [
    "def f1(t, s, i, r):\n",
    "    return -beta * s * i / N\n",
    "\n",
    "def f2(t, s, i, r):\n",
    "    return beta * s * i / N - gama * i\n",
    "\n",
    "def f3(t, s, i, r):\n",
    "    return gama * i"
   ]
  },
  {
   "cell_type": "code",
   "execution_count": 20,
   "id": "f9052fbc-9200-4b9b-84fb-a39d8ab0d903",
   "metadata": {},
   "outputs": [],
   "source": [
    "h = 0.1\n",
    "t = 0\n",
    "dt = 0.1\n",
    "S[0] = N -1\n",
    "I[0] = 1\n",
    "R[0] = 0"
   ]
  },
  {
   "cell_type": "code",
   "execution_count": null,
   "id": "fb6359f1-01a6-4e3c-8149-54b5f27bcc41",
   "metadata": {},
   "outputs": [],
   "source": [
    "for c in range(20):\n",
    "    S0 = S[c]\n",
    "    I0 = I[c]\n",
    "    R0 = R[c]\n",
    "    \n",
    "    \n",
    "    k1 = h * f1(t, S0, I0, R0)\n",
    "    l1 = h * f2(t, S0, I0, R0)\n",
    "    m1 = h * f3(t, S0, I0, R0)\n",
    "\n",
    "    k2 = h * f1(t + h/2, S0 + k1/2, I0 + l1/2, R0 + m1/2)\n",
    "    l2 = h * f2(t + h/2, S0 + k1/2, I0 + l1/2, R0 + m1/2)\n",
    "    m2 = h * f3(t + h/2, S0 + k1/2, I0 + l1/2, R0 + m1/2)\n",
    "\n",
    "\n",
    "    k3 = h * f1(t + h/2, S0 + k2/2, I0 + l2/2, R0 + m2/2)\n",
    "    l3 = h * f2(t + h/2, S0 + k2/2, I0 + l2/2, R0 + m2/2)\n",
    "    m3 = h * f3(t + h/2, S0 + k2/2, I0 + l2/2, R0 + m2/2)\n",
    "\n",
    "    k4 = h * f1(t + h/2, S0 + k3, I0 + l3, R0 + m3)\n",
    "    l4 = h * f2(t + h/2, S0 + k3, I0 + l3, R0 + m3)\n",
    "    m4 = h * f3(t + h/2, S0 + k3, I0 + l3, R0 + m3)\n",
    "\n",
    "    S[c+1] = S0 + (k1 + 2*k2 + 2*k3 + k4)\n",
    "    I[c+1] = I0 + (l1 + 2*l2 + 2*l3 + l4)\n",
    "    R[c+1] = R0 + (m1 + 2*m2 + 2*m3 + m4)\n"
   ]
  },
  {
   "cell_type": "code",
   "execution_count": 24,
   "id": "466119f5-b1a6-424f-9b17-d403783e6bdc",
   "metadata": {},
   "outputs": [
    {
     "data": {
      "text/latex": [
       "$\\displaystyle \\left[\\begin{array}{ccccccccccccccccccccccccccccccccccccccccccccccccccccccccccccccccccccccccccccccccccccccccccccccccccccccccccccccccccccccccccccccccccccccccccccccccccccccccccccccccccccccccccccccccccccccccccccccccccccccccccccccccccccccccccccccccccccccccccccccccccccccccccccccccccccccccccccccccccccccccccccccccccccccccccccccccccccccccccccccccccccccccccccccccccccccccccccccccccccccccccccccccccccccccccccccccccccccccccccccccccccccccccccccccccccccccccccccccccccccccccccccccccccccccccccccccc}43999 & 43998.9403003729 & 43998.8841650302 & 43998.8313811715 & 43998.7817487012 & 43998.7350794701 & 43998.6911965622 & 43998.649933624 & 43998.6111342339 & 43998.5746513091 & 43998.5403465483 & 0 & 0 & 0 & 0 & 0 & 0 & 0 & 0 & 0 & 0 & 0 & 0 & 0 & 0 & 0 & 0 & 0 & 0 & 0 & 0 & 0 & 0 & 0 & 0 & 0 & 0 & 0 & 0 & 0 & 0 & 0 & 0 & 0 & 0 & 0 & 0 & 0 & 0 & 0 & 0 & 0 & 0 & 0 & 0 & 0 & 0 & 0 & 0 & 0 & 0 & 0 & 0 & 0 & 0 & 0 & 0 & 0 & 0 & 0 & 0 & 0 & 0 & 0 & 0 & 0 & 0 & 0 & 0 & 0 & 0 & 0 & 0 & 0 & 0 & 0 & 0 & 0 & 0 & 0 & 0 & 0 & 0 & 0 & 0 & 0 & 0 & 0 & 0 & 0 & 0 & 0 & 0 & 0 & 0 & 0 & 0 & 0 & 0 & 0 & 0 & 0 & 0 & 0 & 0 & 0 & 0 & 0 & 0 & 0 & 0 & 0 & 0 & 0 & 0 & 0 & 0 & 0 & 0 & 0 & 0 & 0 & 0 & 0 & 0 & 0 & 0 & 0 & 0 & 0 & 0 & 0 & 0 & 0 & 0 & 0 & 0 & 0 & 0 & 0 & 0 & 0 & 0 & 0 & 0 & 0 & 0 & 0 & 0 & 0 & 0 & 0 & 0 & 0 & 0 & 0 & 0 & 0 & 0 & 0 & 0 & 0 & 0 & 0 & 0 & 0 & 0 & 0 & 0 & 0 & 0 & 0 & 0 & 0 & 0 & 0 & 0 & 0 & 0 & 0 & 0 & 0 & 0 & 0 & 0 & 0 & 0 & 0 & 0 & 0 & 0 & 0 & 0 & 0 & 0 & 0 & 0 & 0 & 0 & 0 & 0 & 0 & 0 & 0 & 0 & 0 & 0 & 0 & 0 & 0 & 0 & 0 & 0 & 0 & 0 & 0 & 0 & 0 & 0 & 0 & 0 & 0 & 0 & 0 & 0 & 0 & 0 & 0 & 0 & 0 & 0 & 0 & 0 & 0 & 0 & 0 & 0 & 0 & 0 & 0 & 0 & 0 & 0 & 0 & 0 & 0 & 0 & 0 & 0 & 0 & 0 & 0 & 0 & 0 & 0 & 0 & 0 & 0 & 0 & 0 & 0 & 0 & 0 & 0 & 0 & 0 & 0 & 0 & 0 & 0 & 0 & 0 & 0 & 0 & 0 & 0 & 0 & 0 & 0 & 0 & 0 & 0 & 0 & 0 & 0 & 0 & 0 & 0 & 0 & 0 & 0 & 0 & 0 & 0 & 0 & 0 & 0 & 0 & 0 & 0 & 0 & 0 & 0 & 0 & 0 & 0 & 0 & 0 & 0 & 0 & 0 & 0 & 0 & 0 & 0 & 0 & 0 & 0 & 0 & 0 & 0 & 0 & 0 & 0 & 0 & 0 & 0 & 0 & 0 & 0 & 0 & 0 & 0 & 0 & 0 & 0 & 0 & 0 & 0 & 0 & 0 & 0 & 0 & 0 & 0 & 0 & 0 & 0 & 0 & 0 & 0 & 0 & 0 & 0 & 0 & 0 & 0 & 0 & 0 & 0 & 0 & 0 & 0 & 0 & 0 & 0 & 0 & 0 & 0 & 0 & 0 & 0 & 0 & 0 & 0 & 0 & 0 & 0 & 0 & 0 & 0 & 0 & 0 & 0 & 0 & 0 & 0 & 0 & 0 & 0 & 0 & 0 & 0 & 0 & 0 & 0 & 0 & 0 & 0 & 0 & 0 & 0 & 0 & 0 & 0 & 0 & 0 & 0 & 0 & 0 & 0 & 0 & 0 & 0 & 0 & 0 & 0 & 0 & 0 & 0 & 0 & 0 & 0 & 0 & 0 & 0 & 0 & 0 & 0 & 0 & 0 & 0 & 0 & 0 & 0 & 0 & 0 & 0 & 0 & 0 & 0 & 0 & 0 & 0 & 0 & 0 & 0 & 0 & 0 & 0 & 0 & 0 & 0 & 0 & 0\\end{array}\\right]$"
      ],
      "text/plain": [
       "Matrix([[43999, 43998.9403003729, 43998.8841650302, 43998.8313811715, 43998.7817487012, 43998.7350794701, 43998.6911965622, 43998.649933624, 43998.6111342339, 43998.5746513091, 43998.5403465483, 0, 0, 0, 0, 0, 0, 0, 0, 0, 0, 0, 0, 0, 0, 0, 0, 0, 0, 0, 0, 0, 0, 0, 0, 0, 0, 0, 0, 0, 0, 0, 0, 0, 0, 0, 0, 0, 0, 0, 0, 0, 0, 0, 0, 0, 0, 0, 0, 0, 0, 0, 0, 0, 0, 0, 0, 0, 0, 0, 0, 0, 0, 0, 0, 0, 0, 0, 0, 0, 0, 0, 0, 0, 0, 0, 0, 0, 0, 0, 0, 0, 0, 0, 0, 0, 0, 0, 0, 0, 0, 0, 0, 0, 0, 0, 0, 0, 0, 0, 0, 0, 0, 0, 0, 0, 0, 0, 0, 0, 0, 0, 0, 0, 0, 0, 0, 0, 0, 0, 0, 0, 0, 0, 0, 0, 0, 0, 0, 0, 0, 0, 0, 0, 0, 0, 0, 0, 0, 0, 0, 0, 0, 0, 0, 0, 0, 0, 0, 0, 0, 0, 0, 0, 0, 0, 0, 0, 0, 0, 0, 0, 0, 0, 0, 0, 0, 0, 0, 0, 0, 0, 0, 0, 0, 0, 0, 0, 0, 0, 0, 0, 0, 0, 0, 0, 0, 0, 0, 0, 0, 0, 0, 0, 0, 0, 0, 0, 0, 0, 0, 0, 0, 0, 0, 0, 0, 0, 0, 0, 0, 0, 0, 0, 0, 0, 0, 0, 0, 0, 0, 0, 0, 0, 0, 0, 0, 0, 0, 0, 0, 0, 0, 0, 0, 0, 0, 0, 0, 0, 0, 0, 0, 0, 0, 0, 0, 0, 0, 0, 0, 0, 0, 0, 0, 0, 0, 0, 0, 0, 0, 0, 0, 0, 0, 0, 0, 0, 0, 0, 0, 0, 0, 0, 0, 0, 0, 0, 0, 0, 0, 0, 0, 0, 0, 0, 0, 0, 0, 0, 0, 0, 0, 0, 0, 0, 0, 0, 0, 0, 0, 0, 0, 0, 0, 0, 0, 0, 0, 0, 0, 0, 0, 0, 0, 0, 0, 0, 0, 0, 0, 0, 0, 0, 0, 0, 0, 0, 0, 0, 0, 0, 0, 0, 0, 0, 0, 0, 0, 0, 0, 0, 0, 0, 0, 0, 0, 0, 0, 0, 0, 0, 0, 0, 0, 0, 0, 0, 0, 0, 0, 0, 0, 0, 0, 0, 0, 0, 0, 0, 0, 0, 0, 0, 0, 0, 0, 0, 0, 0, 0, 0, 0, 0, 0, 0, 0, 0, 0, 0, 0, 0, 0, 0, 0, 0, 0, 0, 0, 0, 0, 0, 0, 0, 0, 0, 0, 0, 0, 0, 0, 0, 0, 0, 0, 0, 0, 0, 0, 0, 0, 0, 0, 0, 0, 0, 0, 0, 0, 0, 0, 0, 0, 0, 0, 0, 0, 0, 0, 0, 0, 0, 0, 0, 0, 0, 0, 0, 0, 0, 0, 0, 0, 0, 0]])"
      ]
     },
     "execution_count": 24,
     "metadata": {},
     "output_type": "execute_result"
    }
   ],
   "source": [
    "S.subs(\"beta\", 0.1).subs(\"gama\", 0.2)"
   ]
  },
  {
   "cell_type": "code",
   "execution_count": null,
   "id": "2c82f3a5-53ea-4b6f-86d7-a3e450f62e81",
   "metadata": {},
   "outputs": [],
   "source": []
  }
 ],
 "metadata": {
  "kernelspec": {
   "display_name": "Python 3 (ipykernel)",
   "language": "python",
   "name": "python3"
  },
  "language_info": {
   "codemirror_mode": {
    "name": "ipython",
    "version": 3
   },
   "file_extension": ".py",
   "mimetype": "text/x-python",
   "name": "python",
   "nbconvert_exporter": "python",
   "pygments_lexer": "ipython3",
   "version": "3.9.13"
  }
 },
 "nbformat": 4,
 "nbformat_minor": 5
}
