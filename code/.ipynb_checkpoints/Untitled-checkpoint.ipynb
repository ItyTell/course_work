{
 "cells": [
  {
   "cell_type": "code",
   "execution_count": 1,
   "id": "a20c2fc2-0340-4c1e-9867-cdc49d6ca662",
   "metadata": {},
   "outputs": [],
   "source": [
    "import matplotlib.pyplot as plt\n",
    "import numpy as np\n",
    "import sympy as sp\n",
    "import pandas as pd\n",
    "from datetime import datetime"
   ]
  },
  {
   "cell_type": "code",
   "execution_count": 2,
   "id": "a1d0450f-4585-42e8-8c96-2284f6f03c14",
   "metadata": {},
   "outputs": [],
   "source": [
    "T = 66\n",
    "dt = 0.001\n",
    "S = np.zeros(int(T / dt))\n",
    "E = np.zeros(int(T / dt))\n",
    "I = np.zeros(int(T / dt))\n",
    "P = np.zeros(int(T / dt))\n",
    "A = np.zeros(int(T / dt))\n",
    "H = np.zeros(int(T / dt))\n",
    "R = np.zeros(int(T / dt))\n",
    "F = np.zeros(int(T / dt))"
   ]
  },
  {
   "cell_type": "code",
   "execution_count": 3,
   "id": "74595a8e-0126-4e87-bae9-84b4cea5e6d6",
   "metadata": {},
   "outputs": [],
   "source": [
    "beta, l, beta1, k, p1, p2, gama_a, gama_i, gama_r, sigma_i, sigma_p, sigma_h = 2.55, 1.56, 7.65, 0.25, 0.58, 0.001, 0.94, 0.27, 0.5, 3.5, 1, 0.3"
   ]
  },
  {
   "cell_type": "markdown",
   "id": "8400ec93-224b-4543-bb2f-c26fb871e189",
   "metadata": {},
   "source": [
    "$$\n",
    "\\left\\{\\begin{array}{l}\n",
    "\\frac{d S}{d t}=-\\beta \\frac{I}{N} S-l \\beta \\frac{H}{N} S-\\beta^{\\prime} \\frac{P}{N} S, \\\\\n",
    "\\frac{d E}{d t}=\\beta \\frac{I}{N} S+l \\beta \\frac{H}{N} S+\\beta^{\\prime} \\frac{P}{N} S-\\kappa E, \\\\\n",
    "\\frac{d I}{d t}=\\kappa \\rho_1 E-\\left(\\gamma_a+\\gamma_i\\right) I-\\delta_i I, \\\\\n",
    "\\frac{d P}{d t}=\\kappa \\rho_2 E-\\left(\\gamma_a+\\gamma_i\\right) P-\\delta_p P, \\\\\n",
    "\\frac{d A}{d t}=\\kappa\\left(1-\\rho_1-\\rho_2\\right) E, \\\\\n",
    "\\frac{d H}{d t}=\\gamma_a(I+P)-\\gamma_r H-\\delta_h H, \\\\\n",
    "\\frac{d R}{d t}=\\gamma_i(I+P)+\\gamma_r H, \\\\\n",
    "\\frac{d F}{d t}=\\delta_i I+\\delta_p P+\\delta_h H,\n",
    "\\end{array}\\right.\n",
    "$$"
   ]
  },
  {
   "cell_type": "code",
   "execution_count": 4,
   "id": "da5a14a9-43c5-4c8d-8f46-492980f8a3fa",
   "metadata": {},
   "outputs": [],
   "source": [
    "N = int(11000000 / 250)\n",
    "S[0] = N - 6\n",
    "I[0] = 1\n",
    "P[0] = 5\n",
    "for t in range(1, int(T / dt)):\n",
    "    S[t] = (-beta * S[t - 1] * I[t - 1] - l * beta * H[t - 1] * S[t - 1] - beta1 * P[t - 1] * S[t - 1] ) / N\n",
    "    E[t] = -S[t] - k * E[t - 1]\n",
    "    I[t] = k * p1 * E[t - 1] - (gama_a + gama_i) * I[t - 1] - sigma_i * I[t - 1]\n",
    "    P[t] = k * p2 * E[t - 1] - (gama_a + gama_i) * P[t - 1] - sigma_p * P[t - 1]\n",
    "    A[t] = k * (1 - p1 - p2) * E[t - 1]\n",
    "    H[t] = gama_a * (I[t - 1] + P[t - 1]) - gama_r * H[t - 1] - sigma_h * H[t - 1]\n",
    "    R[t] = gama_i * (I[t - 1] + P[t - 1]) + gama_r * H[t - 1]\n",
    "    F[t] = sigma_i * I[t - 1] + sigma_p * P[t - 1] + sigma_h * H[t - 1]\n",
    "    \n",
    "    \n",
    "    S[t] = S[t - 1] + S[t] * dt;\n",
    "        E[t] = E[t - 1] + E[t] * dt;\n",
    "        I[t] = I[t - 1] + I[t] * dt;\n",
    "        P[t] = P[t - 1] + P[t] * dt;\n",
    "        A[t] = A[t - 1] + A[t] * dt;\n",
    "        H[t] = H[t - 1] + H[t] * dt;\n",
    "        R[t] = R[t - 1] + R[t] * dt;\n",
    "        F[t] = F[t - 1] + F[t] * dt;\n",
    "    \n",
    "    \n",
    "    \n",
    "    for chump in (S, E, I, P, A, H, R, F):\n",
    "        chump[t] = chump[t - 1] + chump[t] * dt"
   ]
  },
  {
   "cell_type": "code",
   "execution_count": 6,
   "id": "c17da863-90e1-4ba2-b395-89a3d7906e5b",
   "metadata": {},
   "outputs": [
    {
     "name": "stdout",
     "output_type": "stream",
     "text": [
      "1.0 \n",
      "0.5037319667951344 0.647954782603337 0.677985512878045 0.6780641068339128 0.6688945213959381 0.6566305665951986 0.6434028721977446 0.6299902338063776 0.616680405733241 0.603578279202109 \n",
      "0.5907201624641927 0.5781166131635912 0.5657685425806137 0.5536732761228759 0.5418268346196877 0.5302247930233069 0.5188626035219145 0.5077357169842656 0.4968396284516464 0.4861698940094814 \n",
      "0.4757221368606492 0.46549204931208754 0.45547539320307606 0.44566799972856636 0.4360657690178255 0.4266646696053005 0.4174607378464526 0.4084500772995884 0.39962885808267024 0.39099331620956834 \n",
      "0.38253975290840875 0.37426453392397646 0.36616408880582124 0.3582349101835369 0.3504735530305997 0.34287663391807294 0.3354408302593778 0.32816287954733847 0.3210395785845692 0.3140677827082839 \n",
      "0.30724440501049904 0.30056641555458974 0.2940308405890768 0.287634761759495 0.28137531531913657 0.275249691339414 0.2692551329205648 0.2633889354033488 0.25764844558237493 0.2520310609216439 \n",
      "0.24653422877286107 0.24115544559703506 0.2358922561898505 0.23074225291126857 0.22570307491977443 0.22077240741167342 0.2159479808657952 0.21122757029394912 0.2066089944974496 0.2020901153299967 \n",
      "0.19766883696718374 0.19334310518287923 0.18911090663270938 0.1849702681448403 0.1809192560182581 "
     ]
    }
   ],
   "source": [
    "for i in range(66):\n",
    "    print((I[int(i / dt)]), end=\" \")\n",
    "    if i % 10 == 0:\n",
    "        print(\"\")"
   ]
  },
  {
   "cell_type": "code",
   "execution_count": 7,
   "id": "5ac3fc93-d377-4d98-bda8-f4a056b9c490",
   "metadata": {},
   "outputs": [],
   "source": [
    "LC = [6, 12, 19, 25, 31, 38, 44, 60, 80, 131, 131, 259, 467, 688, 776, 1776, 1460, 1739, 1984, 2101, 2590, 2827, 3233, 3892, 3697, 3151, 3387, 2653, 2984, 2473, 2022, 1820, 1998, 1506, 1278, 2051, 1772, 1891, 399, 894, 397, 650, 415, 518, 412, 439, 441, 435, 579, 206, 130, 120, 143, 146, 102, 46, 45, 20, 31, 26, 11 , 18, 27, 29, 39, 39]"
   ]
  },
  {
   "cell_type": "code",
   "execution_count": 8,
   "id": "ee896c98-42e8-416e-83d3-8ee47ad516bd",
   "metadata": {},
   "outputs": [
    {
     "name": "stdout",
     "output_type": "stream",
     "text": [
      "1\n",
      "0\n",
      "0\n",
      "0\n",
      "0\n",
      "0\n",
      "0\n",
      "0\n",
      "0\n",
      "0\n",
      "0\n",
      "0\n",
      "0\n",
      "0\n",
      "0\n",
      "0\n",
      "0\n",
      "0\n",
      "0\n",
      "0\n",
      "0\n",
      "0\n",
      "0\n",
      "0\n",
      "0\n",
      "0\n",
      "0\n",
      "0\n",
      "0\n",
      "0\n",
      "0\n",
      "0\n",
      "0\n",
      "0\n",
      "0\n",
      "0\n",
      "0\n",
      "0\n",
      "0\n",
      "0\n",
      "0\n",
      "0\n",
      "0\n",
      "0\n",
      "0\n",
      "0\n",
      "0\n",
      "0\n",
      "0\n",
      "0\n",
      "0\n",
      "0\n",
      "0\n",
      "0\n",
      "0\n",
      "0\n",
      "0\n",
      "0\n",
      "0\n",
      "0\n",
      "0\n",
      "0\n",
      "0\n",
      "0\n",
      "0\n",
      "0\n"
     ]
    }
   ],
   "source": [
    "for i in I[::int(1/dt)]:\n",
    "    print(int(i))"
   ]
  },
  {
   "cell_type": "code",
   "execution_count": 9,
   "id": "c7167942-f108-44a7-aa1b-ebd028d319e8",
   "metadata": {},
   "outputs": [
    {
     "data": {
      "text/plain": [
       "66"
      ]
     },
     "execution_count": 9,
     "metadata": {},
     "output_type": "execute_result"
    }
   ],
   "source": [
    "len(I[::int(1/dt)])"
   ]
  },
  {
   "cell_type": "code",
   "execution_count": 10,
   "id": "0073dbd3-0b7a-4b30-98c3-f69aaa64e59d",
   "metadata": {},
   "outputs": [],
   "source": [
    "def plotting_2(x, y, name):\n",
    "    fig, ax = plt.subplots()\n",
    "    plt.title(name, color = 'Orange', fontsize=15)\n",
    "    ax.set_facecolor('#232323')\n",
    "    ax.plot(x, color = 'red')\n",
    "    ax.plot(y, color = 'yellow')\n",
    "    ax.tick_params(labelcolor='tab:orange')\n",
    "    plt.show()"
   ]
  },
  {
   "cell_type": "code",
   "execution_count": 11,
   "id": "58cb093a-a3da-485b-8766-5850e510a97a",
   "metadata": {},
   "outputs": [
    {
     "data": {
      "image/png": "[encoded data removed]",
      "text/plain": [
       "<Figure size 640x480 with 1 Axes>"
      ]
     },
     "metadata": {},
     "output_type": "display_data"
    }
   ],
   "source": [
    "plotting_2(I[::int(1/dt)], LC, \"name\")"
   ]
  },
  {
   "cell_type": "code",
   "execution_count": null,
   "id": "cc800145-c773-41ed-a111-55fea03b3746",
   "metadata": {},
   "outputs": [],
   "source": []
  }
 ],
 "metadata": {
  "kernelspec": {
   "display_name": "Python 3 (ipykernel)",
   "language": "python",
   "name": "python3"
  },
  "language_info": {
   "codemirror_mode": {
    "name": "ipython",
    "version": 3
   },
   "file_extension": ".py",
   "mimetype": "text/x-python",
   "name": "python",
   "nbconvert_exporter": "python",
   "pygments_lexer": "ipython3",
   "version": "3.9.13"
  }
 },
 "nbformat": 4,
 "nbformat_minor": 5
}
