{
 "cells": [
  {
   "cell_type": "code",
   "execution_count": 2,
   "id": "aa4a3ddf-da61-4095-9ef0-474641d041be",
   "metadata": {},
   "outputs": [],
   "source": [
    "import matplotlib.pyplot as plt\n",
    "import numpy as np\n",
    "import sympy as sp\n",
    "import pandas as pd\n",
    "from datetime import datetime"
   ]
  },
  {
   "cell_type": "code",
   "execution_count": 3,
   "id": "0bb1d9a4-ceb0-4f3e-89b3-9bed406f06a5",
   "metadata": {},
   "outputs": [],
   "source": [
    "T = 365\n",
    "dt = 1\n",
    "S = sp.zeros(1, int(T / dt))\n",
    "E = sp.zeros(1, int(T / dt))\n",
    "I = sp.zeros(1, int(T / dt))\n",
    "P = sp.zeros(1, int(T / dt))\n",
    "A = sp.zeros(1, int(T / dt))\n",
    "H = sp.zeros(1, int(T / dt))\n",
    "R = sp.zeros(1, int(T / dt))\n",
    "F = sp.zeros(1, int(T / dt))"
   ]
  },
  {
   "cell_type": "code",
   "execution_count": null,
   "id": "f9699ec7-bc1e-4fc8-886a-51abff1806d8",
   "metadata": {},
   "outputs": [],
   "source": []
  },
  {
   "cell_type": "markdown",
   "id": "61a0e8da-ac17-40fd-8ba2-5668efb054ce",
   "metadata": {},
   "source": [
    "$$\n",
    "\\left\\{\\begin{array}{l}\n",
    "\\frac{d S}{d t}=-\\beta \\frac{I}{N} S-l \\beta \\frac{H}{N} S-\\beta^{\\prime} \\frac{P}{N} S, \\\\\n",
    "\\frac{d E}{d t}=\\beta \\frac{I}{N} S+l \\beta \\frac{H}{N} S+\\beta^{\\prime} \\frac{P}{N} S-\\kappa E, \\\\\n",
    "\\frac{d I}{d t}=\\kappa \\rho_1 E-\\left(\\gamma_a+\\gamma_i\\right) I-\\delta_i I, \\\\\n",
    "\\frac{d P}{d t}=\\kappa \\rho_2 E-\\left(\\gamma_a+\\gamma_i\\right) P-\\delta_p P, \\\\\n",
    "\\frac{d A}{d t}=\\kappa\\left(1-\\rho_1-\\rho_2\\right) E, \\\\\n",
    "\\frac{d H}{d t}=\\gamma_a(I+P)-\\gamma_r H-\\delta_h H, \\\\\n",
    "\\frac{d R}{d t}=\\gamma_i(I+P)+\\gamma_r H, \\\\\n",
    "\\frac{d F}{d t}=\\delta_i I+\\delta_p P+\\delta_h H,\n",
    "\\end{array}\\right.\n",
    "$$"
   ]
  },
  {
   "cell_type": "code",
   "execution_count": 4,
   "id": "7ebc3acf-8965-46b2-be0c-b1eadde24643",
   "metadata": {},
   "outputs": [],
   "source": [
    "beta, l, beta1, k, p1, p2, gama_a, gama_i, sigma_i, sigma_p, gama_r, sigma_h = sp.symbols(\"beta l beta1 k p1 p2 gama_a gamma_i sigma_i sigma_p gamma_r sigma_h\")"
   ]
  },
  {
   "cell_type": "code",
   "execution_count": 5,
   "id": "2b3b7e93-0b19-402a-b134-55ca6d8830f1",
   "metadata": {},
   "outputs": [],
   "source": [
    "N = 1000\n",
    "S[0] = N\n",
    "I[0] = 1\n",
    "for t in range(1, 20):\n",
    "    S[t] = (-beta * S[t - 1] * I[t - 1] - l * beta * H[t - 1] * S[t - 1] - beta1 * P[t - 1] * S[t - 1] ) / N\n",
    "    E[t] = -S[t] - k * E[t - 1]\n",
    "    I[t] = k * p1 * E[t - 1] - (gama_a + gama_i) * I[t - 1] - sigma_i * I[t - 1]\n",
    "    P[t] = k * p2 * E[t - 1] - (gama_a + gama_i) * P[t - 1] - sigma_p * P[t - 1]\n",
    "    A[t] = k * (1 - p1 - p2) * E[t - 1]\n",
    "    H[t] = gama_a * (I[t - 1] + P[t - 1]) - gama_r * H[t - 1] - sigma_h * H[t - 1]\n",
    "    R[t] = gama_i * (I[t - 1] + P[t - 1]) + gama_r * H[t - 1]\n",
    "    F[t] = sigma_i * I[t - 1] + sigma_p * P[t - 1] + sigma_h * H[t - 1]\n",
    "    \n",
    "    for chump in (S, E, I, P, A, H, R, F):\n",
    "        chump[t] = chump[t - 1] + chump[t] * dt"
   ]
  },
  {
   "cell_type": "code",
   "execution_count": 13,
   "id": "0b785ee0-b30a-40a4-8f40-50faabf7235d",
   "metadata": {},
   "outputs": [
    {
     "data": {
      "text/latex": [
       "$\\displaystyle -52.986726693695$"
      ],
      "text/plain": [
       "-52.9867266936950"
      ]
     },
     "execution_count": 13,
     "metadata": {},
     "output_type": "execute_result"
    }
   ],
   "source": [
    "I[].subs([(beta, 2.55), (l, 1.56), (beta1, 7.65), (k, 0.25), (p1, 0.58), (p2, 0.001), (gama_a, 0.94), \n",
    "           (gama_i, 0.27), (gama_r, 0.5), (sigma_i, 3.5), (sigma_p, 1), (sigma_h, 0.3)])"
   ]
  },
  {
   "cell_type": "code",
   "execution_count": null,
   "id": "44629649-1354-4dd4-9800-ffe6742285ed",
   "metadata": {},
   "outputs": [],
   "source": []
  },
  {
   "cell_type": "code",
   "execution_count": 5,
   "id": "f370e719-6e58-4353-a629-4d65cb1a5e92",
   "metadata": {},
   "outputs": [
    {
     "data": {
      "text/latex": [
       "$\\displaystyle \\left[\\begin{array}{cccccccccccccccccccc}0 & 0 & 0 & 0 & 0 & 0 & 0 & 0 & 0 & 0 & 0 & 0 & 0 & 0 & 0 & 0 & 0 & 0 & 0 & 0\\end{array}\\right]$"
      ],
      "text/plain": [
       "Matrix([[0, 0, 0, 0, 0, 0, 0, 0, 0, 0, 0, 0, 0, 0, 0, 0, 0, 0, 0, 0]])"
      ]
     },
     "execution_count": 5,
     "metadata": {},
     "output_type": "execute_result"
    }
   ],
   "source": [
    "S"
   ]
  },
  {
   "cell_type": "code",
   "execution_count": null,
   "id": "2e161750-4322-46ac-a059-32cf75796c22",
   "metadata": {},
   "outputs": [],
   "source": []
  },
  {
   "cell_type": "code",
   "execution_count": 20,
   "id": "91cda718-db1e-4155-9ead-615fd34f868b",
   "metadata": {},
   "outputs": [],
   "source": [
    "file = pd.ExcelFile(\"owid-covid-data.xlsx\")\n",
    "df = file.parse(\"Sheet1\")"
   ]
  },
  {
   "cell_type": "code",
   "execution_count": 23,
   "id": "a79f80f6-e026-4ae8-a610-c796c7d47cae",
   "metadata": {},
   "outputs": [
    {
     "data": {
      "text/plain": [
       "<AxesSubplot:>"
      ]
     },
     "execution_count": 23,
     "metadata": {},
     "output_type": "execute_result"
    },
    {
     "data": {
      "image/png": "[encoded data removed]",
      "text/plain": [
       "<Figure size 640x480 with 1 Axes>"
      ]
     },
     "metadata": {},
     "output_type": "display_data"
    }
   ],
   "source": [
    "df[\"total_cases\"].plot()"
   ]
  },
  {
   "cell_type": "code",
   "execution_count": 24,
   "id": "17d0e508-a2ce-4cf5-8771-a3eaa5b002bb",
   "metadata": {},
   "outputs": [
    {
     "data": {
      "text/html": [
       "<div>\n",
       "<style scoped>\n",
       "    .dataframe tbody tr th:only-of-type {\n",
       "        vertical-align: middle;\n",
       "    }\n",
       "\n",
       "    .dataframe tbody tr th {\n",
       "        vertical-align: top;\n",
       "    }\n",
       "\n",
       "    .dataframe thead th {\n",
       "        text-align: right;\n",
       "    }\n",
       "</style>\n",
       "<table border=\"1\" class=\"dataframe\">\n",
       "  <thead>\n",
       "    <tr style=\"text-align: right;\">\n",
       "      <th></th>\n",
       "      <th>location</th>\n",
       "      <th>date</th>\n",
       "      <th>total_cases</th>\n",
       "      <th>new_cases</th>\n",
       "      <th>new_cases_smoothed</th>\n",
       "      <th>total_deaths</th>\n",
       "      <th>new_deaths</th>\n",
       "      <th>new_deaths_smoothed</th>\n",
       "      <th>total_cases_per_million</th>\n",
       "      <th>new_cases_per_million</th>\n",
       "      <th>...</th>\n",
       "      <th>male_smokers</th>\n",
       "      <th>handwashing_facilities</th>\n",
       "      <th>hospital_beds_per_thousand</th>\n",
       "      <th>life_expectancy</th>\n",
       "      <th>human_development_index</th>\n",
       "      <th>population</th>\n",
       "      <th>excess_mortality_cumulative_absolute</th>\n",
       "      <th>excess_mortality_cumulative</th>\n",
       "      <th>excess_mortality</th>\n",
       "      <th>excess_mortality_cumulative_per_million</th>\n",
       "    </tr>\n",
       "  </thead>\n",
       "  <tbody>\n",
       "    <tr>\n",
       "      <th>0</th>\n",
       "      <td>Luxembourg</td>\n",
       "      <td>2020-01-03</td>\n",
       "      <td>0</td>\n",
       "      <td>0</td>\n",
       "      <td>NaN</td>\n",
       "      <td>0</td>\n",
       "      <td>0</td>\n",
       "      <td>NaN</td>\n",
       "      <td>NaN</td>\n",
       "      <td>0.0</td>\n",
       "      <td>...</td>\n",
       "      <td>26</td>\n",
       "      <td>NaN</td>\n",
       "      <td>4.51</td>\n",
       "      <td>82.25</td>\n",
       "      <td>0.916</td>\n",
       "      <td>647601</td>\n",
       "      <td>NaN</td>\n",
       "      <td>NaN</td>\n",
       "      <td>NaN</td>\n",
       "      <td>NaN</td>\n",
       "    </tr>\n",
       "    <tr>\n",
       "      <th>1</th>\n",
       "      <td>Luxembourg</td>\n",
       "      <td>2020-01-04</td>\n",
       "      <td>0</td>\n",
       "      <td>0</td>\n",
       "      <td>NaN</td>\n",
       "      <td>0</td>\n",
       "      <td>0</td>\n",
       "      <td>NaN</td>\n",
       "      <td>NaN</td>\n",
       "      <td>0.0</td>\n",
       "      <td>...</td>\n",
       "      <td>26</td>\n",
       "      <td>NaN</td>\n",
       "      <td>4.51</td>\n",
       "      <td>82.25</td>\n",
       "      <td>0.916</td>\n",
       "      <td>647601</td>\n",
       "      <td>NaN</td>\n",
       "      <td>NaN</td>\n",
       "      <td>NaN</td>\n",
       "      <td>NaN</td>\n",
       "    </tr>\n",
       "    <tr>\n",
       "      <th>2</th>\n",
       "      <td>Luxembourg</td>\n",
       "      <td>2020-01-05</td>\n",
       "      <td>0</td>\n",
       "      <td>0</td>\n",
       "      <td>NaN</td>\n",
       "      <td>0</td>\n",
       "      <td>0</td>\n",
       "      <td>NaN</td>\n",
       "      <td>NaN</td>\n",
       "      <td>0.0</td>\n",
       "      <td>...</td>\n",
       "      <td>26</td>\n",
       "      <td>NaN</td>\n",
       "      <td>4.51</td>\n",
       "      <td>82.25</td>\n",
       "      <td>0.916</td>\n",
       "      <td>647601</td>\n",
       "      <td>-30.6</td>\n",
       "      <td>-33.05</td>\n",
       "      <td>-33.05</td>\n",
       "      <td>-48.54053</td>\n",
       "    </tr>\n",
       "    <tr>\n",
       "      <th>3</th>\n",
       "      <td>Luxembourg</td>\n",
       "      <td>2020-01-06</td>\n",
       "      <td>0</td>\n",
       "      <td>0</td>\n",
       "      <td>NaN</td>\n",
       "      <td>0</td>\n",
       "      <td>0</td>\n",
       "      <td>NaN</td>\n",
       "      <td>NaN</td>\n",
       "      <td>0.0</td>\n",
       "      <td>...</td>\n",
       "      <td>26</td>\n",
       "      <td>NaN</td>\n",
       "      <td>4.51</td>\n",
       "      <td>82.25</td>\n",
       "      <td>0.916</td>\n",
       "      <td>647601</td>\n",
       "      <td>NaN</td>\n",
       "      <td>NaN</td>\n",
       "      <td>NaN</td>\n",
       "      <td>NaN</td>\n",
       "    </tr>\n",
       "    <tr>\n",
       "      <th>4</th>\n",
       "      <td>Luxembourg</td>\n",
       "      <td>2020-01-07</td>\n",
       "      <td>0</td>\n",
       "      <td>0</td>\n",
       "      <td>NaN</td>\n",
       "      <td>0</td>\n",
       "      <td>0</td>\n",
       "      <td>NaN</td>\n",
       "      <td>NaN</td>\n",
       "      <td>0.0</td>\n",
       "      <td>...</td>\n",
       "      <td>26</td>\n",
       "      <td>NaN</td>\n",
       "      <td>4.51</td>\n",
       "      <td>82.25</td>\n",
       "      <td>0.916</td>\n",
       "      <td>647601</td>\n",
       "      <td>NaN</td>\n",
       "      <td>NaN</td>\n",
       "      <td>NaN</td>\n",
       "      <td>NaN</td>\n",
       "    </tr>\n",
       "  </tbody>\n",
       "</table>\n",
       "<p>5 rows × 65 columns</p>\n",
       "</div>"
      ],
      "text/plain": [
       "     location        date  total_cases  new_cases  new_cases_smoothed  \\\n",
       "0  Luxembourg  2020-01-03            0          0                 NaN   \n",
       "1  Luxembourg  2020-01-04            0          0                 NaN   \n",
       "2  Luxembourg  2020-01-05            0          0                 NaN   \n",
       "3  Luxembourg  2020-01-06            0          0                 NaN   \n",
       "4  Luxembourg  2020-01-07            0          0                 NaN   \n",
       "\n",
       "   total_deaths  new_deaths  new_deaths_smoothed  total_cases_per_million  \\\n",
       "0             0           0                  NaN                      NaN   \n",
       "1             0           0                  NaN                      NaN   \n",
       "2             0           0                  NaN                      NaN   \n",
       "3             0           0                  NaN                      NaN   \n",
       "4             0           0                  NaN                      NaN   \n",
       "\n",
       "   new_cases_per_million  ...  male_smokers  handwashing_facilities  \\\n",
       "0                    0.0  ...            26                     NaN   \n",
       "1                    0.0  ...            26                     NaN   \n",
       "2                    0.0  ...            26                     NaN   \n",
       "3                    0.0  ...            26                     NaN   \n",
       "4                    0.0  ...            26                     NaN   \n",
       "\n",
       "   hospital_beds_per_thousand  life_expectancy  human_development_index  \\\n",
       "0                        4.51            82.25                    0.916   \n",
       "1                        4.51            82.25                    0.916   \n",
       "2                        4.51            82.25                    0.916   \n",
       "3                        4.51            82.25                    0.916   \n",
       "4                        4.51            82.25                    0.916   \n",
       "\n",
       "   population  excess_mortality_cumulative_absolute  \\\n",
       "0      647601                                   NaN   \n",
       "1      647601                                   NaN   \n",
       "2      647601                                 -30.6   \n",
       "3      647601                                   NaN   \n",
       "4      647601                                   NaN   \n",
       "\n",
       "   excess_mortality_cumulative  excess_mortality  \\\n",
       "0                          NaN               NaN   \n",
       "1                          NaN               NaN   \n",
       "2                       -33.05            -33.05   \n",
       "3                          NaN               NaN   \n",
       "4                          NaN               NaN   \n",
       "\n",
       "   excess_mortality_cumulative_per_million  \n",
       "0                                      NaN  \n",
       "1                                      NaN  \n",
       "2                                -48.54053  \n",
       "3                                      NaN  \n",
       "4                                      NaN  \n",
       "\n",
       "[5 rows x 65 columns]"
      ]
     },
     "execution_count": 24,
     "metadata": {},
     "output_type": "execute_result"
    }
   ],
   "source": [
    "df.head()"
   ]
  },
  {
   "cell_type": "code",
   "execution_count": 33,
   "id": "5db76185-93eb-47bd-90da-d42ab1b08da5",
   "metadata": {},
   "outputs": [],
   "source": [
    "d = []\n",
    "for date in df[\"date\"]:\n",
    "    d.append(datetime.strptime(date, \"%Y-%m-%d\"))"
   ]
  },
  {
   "cell_type": "code",
   "execution_count": 37,
   "id": "a35ca823-f2f5-4df8-9f70-a69a3662125d",
   "metadata": {},
   "outputs": [],
   "source": [
    "dt = []\n",
    "for i in range(len(d) - 1):\n",
    "    dt.append((d[i+1] - d[i]).days) "
   ]
  },
  {
   "cell_type": "code",
   "execution_count": null,
   "id": "12c4b850-4ebc-473b-b013-7fe757a35572",
   "metadata": {},
   "outputs": [],
   "source": []
  },
  {
   "cell_type": "code",
   "execution_count": null,
   "id": "eabbfc47-4378-40e4-93dc-5ce1a6522e56",
   "metadata": {},
   "outputs": [],
   "source": []
  }
 ],
 "metadata": {
  "kernelspec": {
   "display_name": "Python 3 (ipykernel)",
   "language": "python",
   "name": "python3"
  },
  "language_info": {
   "codemirror_mode": {
    "name": "ipython",
    "version": 3
   },
   "file_extension": ".py",
   "mimetype": "text/x-python",
   "name": "python",
   "nbconvert_exporter": "python",
   "pygments_lexer": "ipython3",
   "version": "3.9.13"
  }
 },
 "nbformat": 4,
 "nbformat_minor": 5
}
